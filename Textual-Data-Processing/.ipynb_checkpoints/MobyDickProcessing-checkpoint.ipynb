{
 "cells": [
  {
   "cell_type": "markdown",
   "id": "7ca15cc6",
   "metadata": {},
   "source": [
    "## Getting the text from the gutemberg project"
   ]
  },
  {
   "cell_type": "code",
   "execution_count": 1,
   "id": "4d566252",
   "metadata": {},
   "outputs": [],
   "source": [
    "import requests\n",
    "from bs4 import BeautifulSoup\n",
    "import nltk"
   ]
  },
  {
   "cell_type": "code",
   "execution_count": 2,
   "id": "f49250d9",
   "metadata": {},
   "outputs": [],
   "source": [
    "r = requests.get(\"https://www.gutenberg.org/files/2701/2701-h/2701-h.htm\")\n",
    "r.encodint = \"utf-8\"\n",
    "html = r.text\n",
    "\n",
    "soup = BeautifulSoup(html, 'html.parser')\n",
    "\n",
    "text = soup.get_text()"
   ]
  },
  {
   "cell_type": "markdown",
   "id": "ff927742",
   "metadata": {},
   "source": [
    "## Processing the text"
   ]
  },
  {
   "cell_type": "code",
   "execution_count": 3,
   "id": "e22d262b",
   "metadata": {},
   "outputs": [],
   "source": [
    "tokenizer = nltk.tokenize.RegexpTokenizer(\"\\w+\")\n",
    "\n",
    "tokens = tokenizer.tokenize(text)"
   ]
  },
  {
   "cell_type": "code",
   "execution_count": 4,
   "id": "568b994e",
   "metadata": {},
   "outputs": [],
   "source": [
    "words = [word.lower() for word in tokens]"
   ]
  },
  {
   "cell_type": "code",
   "execution_count": 5,
   "id": "9d37d513",
   "metadata": {},
   "outputs": [
    {
     "name": "stderr",
     "output_type": "stream",
     "text": [
      "[nltk_data] Downloading package stopwords to /home/mignoe/nltk_data...\n",
      "[nltk_data]   Package stopwords is already up-to-date!\n"
     ]
    }
   ],
   "source": [
    "from nltk.corpus import stopwords\n",
    "nltk.download(\"stopwords\")\n",
    "sw = set(stopwords.words(\"english\"))\n",
    "\n",
    "words_ns = [word for word in words if word not in sw]"
   ]
  },
  {
   "cell_type": "markdown",
   "id": "ba19fe6f",
   "metadata": {},
   "source": [
    "#### verifying Zipf's law in the book\n"
   ]
  },
  {
   "cell_type": "code",
   "execution_count": 6,
   "id": "0f2f968e",
   "metadata": {},
   "outputs": [],
   "source": [
    "freqdist = nltk.FreqDist(words_ns)"
   ]
  },
  {
   "cell_type": "code",
   "execution_count": 7,
   "id": "54df6c19",
   "metadata": {},
   "outputs": [
    {
     "data": {
      "image/png": "[encoded data removed]",
      "text/plain": [
       "<Figure size 432x288 with 1 Axes>"
      ]
     },
     "metadata": {
      "needs_background": "light"
     },
     "output_type": "display_data"
    },
    {
     "data": {
      "text/plain": [
       "<AxesSubplot: xlabel='Samples', ylabel='Counts'>"
      ]
     },
     "execution_count": 7,
     "metadata": {},
     "output_type": "execute_result"
    }
   ],
   "source": [
    " %matplotlib inline\n",
    "    \n",
    "freqdist.plot(25)"
   ]
  },
  {
   "cell_type": "markdown",
   "id": "04be41c8",
   "metadata": {},
   "source": [
    "#### Stemming versus Lemmatization"
   ]
  },
  {
   "cell_type": "code",
   "execution_count": 8,
   "id": "cc9639fc",
   "metadata": {},
   "outputs": [],
   "source": [
    "from nltk.stem import PorterStemmer, WordNetLemmatizer"
   ]
  },
  {
   "cell_type": "code",
   "execution_count": 9,
   "id": "eb96d795",
   "metadata": {},
   "outputs": [],
   "source": [
    "ps = PorterStemmer()\n",
    "\n",
    "stemmed_words = [ps.stem(word) for word in words_ns]"
   ]
  },
  {
   "cell_type": "code",
   "execution_count": 27,
   "id": "98a119ee",
   "metadata": {},
   "outputs": [
    {
     "data": {
      "text/plain": [
       "['keep',\n",
       " 'windward',\n",
       " 'head',\n",
       " 'hard',\n",
       " 'gale',\n",
       " 'fix',\n",
       " 'summit',\n",
       " 'mast',\n",
       " 'ascend',\n",
       " 'littl',\n",
       " 'trap',\n",
       " 'hatch',\n",
       " 'bottom',\n",
       " 'side',\n",
       " 'side']"
      ]
     },
     "execution_count": 27,
     "metadata": {},
     "output_type": "execute_result"
    }
   ],
   "source": [
    "stemmed_words[32000:32015]"
   ]
  },
  {
   "cell_type": "code",
   "execution_count": 11,
   "id": "4a20ec44",
   "metadata": {},
   "outputs": [],
   "source": [
    "from nltk import wordnet"
   ]
  },
  {
   "cell_type": "code",
   "execution_count": 12,
   "id": "9dce0a98",
   "metadata": {},
   "outputs": [
    {
     "name": "stderr",
     "output_type": "stream",
     "text": [
      "[nltk_data] Downloading package wordnet to /home/mignoe/nltk_data...\n",
      "[nltk_data]   Package wordnet is already up-to-date!\n",
      "[nltk_data] Downloading package averaged_perceptron_tagger to\n",
      "[nltk_data]     /home/mignoe/nltk_data...\n",
      "[nltk_data]   Package averaged_perceptron_tagger is already up-to-\n",
      "[nltk_data]       date!\n"
     ]
    },
    {
     "data": {
      "text/plain": [
       "True"
      ]
     },
     "execution_count": 12,
     "metadata": {},
     "output_type": "execute_result"
    }
   ],
   "source": [
    "nltk.download('wordnet')\n",
    "nltk.download('averaged_perceptron_tagger')"
   ]
  },
  {
   "cell_type": "code",
   "execution_count": 13,
   "id": "b975b48e",
   "metadata": {},
   "outputs": [],
   "source": [
    "lemmatizer = WordNetLemmatizer()\n",
    "\n",
    "def get_wordnet_pos(nltk_pos):\n",
    "    if nltk_pos.startswith('J'):\n",
    "        return 'a'\n",
    "    elif nltk_pos.startswith('V'):\n",
    "        return 'v'\n",
    "    elif nltk_pos.startswith('N'):\n",
    "        return 'n'\n",
    "    elif nltk_pos.startswith('R'):\n",
    "        return 'r'\n",
    "    else:\n",
    "        return 'n'\n",
    "\n",
    "lemmatized_words = []\n",
    "for word, pos in nltk.pos_tag(words_ns):\n",
    "    pos = get_wordnet_pos(pos)\n",
    "    lemmatized_words.append(lemmatizer.lemmatize(word, pos))"
   ]
  },
  {
   "cell_type": "code",
   "execution_count": 26,
   "id": "ca7b333e",
   "metadata": {},
   "outputs": [
    {
     "data": {
      "text/plain": [
       "['keep',\n",
       " 'windward',\n",
       " 'head',\n",
       " 'hard',\n",
       " 'gale',\n",
       " 'fix',\n",
       " 'summit',\n",
       " 'mast',\n",
       " 'ascend',\n",
       " 'little',\n",
       " 'trap',\n",
       " 'hatch',\n",
       " 'bottom',\n",
       " 'side',\n",
       " 'side']"
      ]
     },
     "execution_count": 26,
     "metadata": {},
     "output_type": "execute_result"
    }
   ],
   "source": [
    "lemmatized_words[32000:32015]"
   ]
  },
  {
   "cell_type": "markdown",
   "id": "2227db50",
   "metadata": {},
   "source": [
    "##### Comparing how many different words there are in both stemmed_words and lemmatized_words"
   ]
  },
  {
   "cell_type": "code",
   "execution_count": 15,
   "id": "5de259da",
   "metadata": {},
   "outputs": [
    {
     "name": "stdout",
     "output_type": "stream",
     "text": [
      "Lemmatized different words count: 13525\n",
      "Stemmed different words count: 10822\n"
     ]
    }
   ],
   "source": [
    "print(f\"Lemmatized different words count: {len(set(lemmatized_words))}\")\n",
    "print(f\"Stemmed different words count: {len((set(stemmed_words)))}\")"
   ]
  },
  {
   "cell_type": "markdown",
   "id": "bbe382c9",
   "metadata": {},
   "source": [
    "##### There is undoubtly something wrong here... "
   ]
  },
  {
   "cell_type": "markdown",
   "id": "277d77dc",
   "metadata": {},
   "source": [
    "### Part-Of-Speech tagging"
   ]
  },
  {
   "cell_type": "code",
   "execution_count": 23,
   "id": "763dd0ac",
   "metadata": {},
   "outputs": [
    {
     "data": {
      "text/plain": [
       "[('keep', 'VB'),\n",
       " ('windward', 'NN'),\n",
       " ('head', 'NN'),\n",
       " ('hard', 'JJ'),\n",
       " ('gale', 'NN'),\n",
       " ('fixed', 'VBN'),\n",
       " ('summit', 'NN'),\n",
       " ('mast', 'RBS'),\n",
       " ('ascend', 'JJ'),\n",
       " ('little', 'JJ'),\n",
       " ('trap', 'NN'),\n",
       " ('hatch', 'NN'),\n",
       " ('bottom', 'JJ'),\n",
       " ('side', 'NN'),\n",
       " ('side', 'NN')]"
      ]
     },
     "execution_count": 23,
     "metadata": {},
     "output_type": "execute_result"
    }
   ],
   "source": [
    "nltk.pos_tag(words_ns[32000:32015])"
   ]
  },
  {
   "cell_type": "markdown",
   "id": "9088875e",
   "metadata": {},
   "source": [
    "### N-grams"
   ]
  },
  {
   "cell_type": "code",
   "execution_count": 17,
   "id": "cd8e259f",
   "metadata": {},
   "outputs": [],
   "source": [
    "# starting with bigrams\n",
    "from nltk import bigrams"
   ]
  },
  {
   "cell_type": "code",
   "execution_count": 18,
   "id": "55bf0c3b",
   "metadata": {},
   "outputs": [],
   "source": [
    "string_bigrams = list(bigrams(words_ns))"
   ]
  },
  {
   "cell_type": "code",
   "execution_count": 24,
   "id": "021b6924",
   "metadata": {},
   "outputs": [
    {
     "data": {
      "text/plain": [
       "[('keep', 'windward'),\n",
       " ('windward', 'head'),\n",
       " ('head', 'hard'),\n",
       " ('hard', 'gale'),\n",
       " ('gale', 'fixed'),\n",
       " ('fixed', 'summit'),\n",
       " ('summit', 'mast'),\n",
       " ('mast', 'ascend'),\n",
       " ('ascend', 'little'),\n",
       " ('little', 'trap'),\n",
       " ('trap', 'hatch'),\n",
       " ('hatch', 'bottom'),\n",
       " ('bottom', 'side'),\n",
       " ('side', 'side'),\n",
       " ('side', 'next')]"
      ]
     },
     "execution_count": 24,
     "metadata": {},
     "output_type": "execute_result"
    }
   ],
   "source": [
    "string_bigrams[32000:32015]"
   ]
  },
  {
   "cell_type": "code",
   "execution_count": 20,
   "id": "dae013ce",
   "metadata": {},
   "outputs": [],
   "source": [
    "# now trying trigrams\n",
    "from nltk import trigrams"
   ]
  },
  {
   "cell_type": "code",
   "execution_count": 21,
   "id": "70aa2310",
   "metadata": {},
   "outputs": [],
   "source": [
    "string_trigrams = list(trigrams(words_ns))"
   ]
  },
  {
   "cell_type": "code",
   "execution_count": 25,
   "id": "c81020f9",
   "metadata": {},
   "outputs": [
    {
     "data": {
      "text/plain": [
       "[('keep', 'windward', 'head'),\n",
       " ('windward', 'head', 'hard'),\n",
       " ('head', 'hard', 'gale'),\n",
       " ('hard', 'gale', 'fixed'),\n",
       " ('gale', 'fixed', 'summit'),\n",
       " ('fixed', 'summit', 'mast'),\n",
       " ('summit', 'mast', 'ascend'),\n",
       " ('mast', 'ascend', 'little'),\n",
       " ('ascend', 'little', 'trap'),\n",
       " ('little', 'trap', 'hatch'),\n",
       " ('trap', 'hatch', 'bottom'),\n",
       " ('hatch', 'bottom', 'side'),\n",
       " ('bottom', 'side', 'side'),\n",
       " ('side', 'side', 'next'),\n",
       " ('side', 'next', 'stern')]"
      ]
     },
     "execution_count": 25,
     "metadata": {},
     "output_type": "execute_result"
    }
   ],
   "source": [
    "string_trigrams[32000:32015]"
   ]
  }
 ],
 "metadata": {
  "kernelspec": {
   "display_name": "Python 3 (ipykernel)",
   "language": "python",
   "name": "python3"
  },
  "language_info": {
   "codemirror_mode": {
    "name": "ipython",
    "version": 3
   },
   "file_extension": ".py",
   "mimetype": "text/x-python",
   "name": "python",
   "nbconvert_exporter": "python",
   "pygments_lexer": "ipython3",
   "version": "3.11.2"
  }
 },
 "nbformat": 4,
 "nbformat_minor": 5
}
